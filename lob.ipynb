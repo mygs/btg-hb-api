{
 "cells": [
  {
   "cell_type": "code",
   "execution_count": null,
   "metadata": {},
   "outputs": [],
   "source": [
    "%matplotlib inline\n",
    "from matplotlib import pyplot as plt\n",
    "from matplotlib import dates as mdate\n",
    "import json, datetime, pandas\n",
    "pandas.options.display.float_format = \"{:.2f}\".format\n",
    "from pandas.plotting import register_matplotlib_converters\n",
    "register_matplotlib_converters()\n",
    "import ipywidgets as widgets \n",
    "from IPython.display import display, clear_output, Markdown"
   ]
  },
  {
   "cell_type": "code",
   "execution_count": null,
   "metadata": {},
   "outputs": [],
   "source": [
    "class LOB:\n",
    "    # variables can be access externally\n",
    "    DATA={}\n",
    "    FILTERED_DATA = {}\n",
    "    def __init__(self, symbols, csv_file):\n",
    "        self.symbols = symbols\n",
    "        self.DATA = pandas.read_csv(csv_file,sep=';')\n",
    "        self.DATA.set_index('timestamp', inplace=True)\n",
    "    def lob_stats_analyser(self):\n",
    "        outt = widgets.Output()\n",
    "        dropdown_symbol = widgets.Dropdown(options=self.symbols, description='Symbols:')\n",
    "        stats_checkbox = [widgets.Checkbox(description=stats, value=True,indent=False, disabled=False) for stats in self.DATA.columns]\n",
    "        stats_checkboxes = widgets.HBox(stats_checkbox)\n",
    "        rolling = widgets.FloatSlider(\n",
    "                 value=50,\n",
    "                 min=1,\n",
    "                 max=200,\n",
    "                 step=1,\n",
    "                 disabled=False,\n",
    "                 description='Rolling:',\n",
    "                )\n",
    "        timerange = widgets.IntRangeSlider(\n",
    "                        value=[0,0],\n",
    "                        min=0,\n",
    "                        max=0,\n",
    "                        step=5,\n",
    "                        description='Range:',\n",
    "                        disabled=False,\n",
    "                        continuous_update=False,\n",
    "                        orientation='horizontal',\n",
    "                        readout=True,\n",
    "                        readout_format='d',\n",
    "                        layout=dict(width='95%')\n",
    "                        )\n",
    "        timerange.max = self.DATA.index.max()\n",
    "        timerange.min = self.DATA.index.min()\n",
    "        timerange.value = [self.DATA.index.min(), self.DATA.index.max()]\n",
    "\n",
    "        def plot_time_range(start, end, normalized):\n",
    "            with outt:\n",
    "                clear_output()\n",
    "                timerange.value = [start, end]\n",
    "                print(\"Start time:\", datetime.datetime.fromtimestamp(start).strftime('%Y-%m-%d %H:%M:%S'),\n",
    "                        \"  End time:\", datetime.datetime.fromtimestamp(end).strftime('%Y-%m-%d %H:%M:%S'))\n",
    "                selected_stats = [checkbox.description for checkbox in stats_checkbox if checkbox.value]\n",
    "                if normalized:\n",
    "                    self.FILTERED_DATA = self.DATA[(self.DATA.symbol == dropdown_symbol.value) & (self.DATA.index > start) & \n",
    "                        (self.DATA.index < end)][selected_stats].rolling(int(rolling.value)).mean().dropna()\n",
    "                    self.FILTERED_DATA = self.FILTERED_DATA.apply(lambda x: (x-x.min())/(x.max()-x.min()))\n",
    "                else:\n",
    "                    self.FILTERED_DATA = self.DATA[(self.DATA.symbol == dropdown_symbol.value) & (self.DATA.index > start) & \n",
    "                        (self.DATA.index < end)][selected_stats].rolling(int(rolling.value)).mean().dropna()\n",
    "                plt.rcParams['figure.figsize'] = [15,7]\n",
    "                plt.rcParams['timezone'] = 'America/Sao_Paulo'\n",
    "\n",
    "                fig,ax = plt.subplots()\n",
    "                x = mdate.epoch2num(self.FILTERED_DATA.index)\n",
    "                fmt = mdate.DateFormatter('%H:%M:%S')\n",
    "\n",
    "                ax.xaxis.set_major_formatter(fmt)\n",
    "                plt.xticks( rotation=25 )\n",
    "                plt.plot_date(x, self.FILTERED_DATA, linestyle='solid', marker='None')\n",
    "\n",
    "                plt.legend(self.FILTERED_DATA.columns)\n",
    "                plt.show()\n",
    "        def on_btn_filter_range_clicked(b):\n",
    "            plot_time_range(timerange.value[0], timerange.value[1], False)\n",
    "        def on_btn_filter_range_norm_clicked(b):\n",
    "            plot_time_range(timerange.value[0], timerange.value[1], True)\n",
    "        btn_filter_range = widgets.Button(description='Filter',button_style='danger', disabled=False)\n",
    "        btn_filter_range.on_click(on_btn_filter_range_clicked)\n",
    "        btn_filter_range_norm = widgets.Button(description='Filter w/ Norm',button_style='warning', disabled=False)\n",
    "        btn_filter_range_norm.on_click(on_btn_filter_range_norm_clicked)\n",
    "        btns = widgets.HBox([dropdown_symbol,btn_filter_range, btn_filter_range_norm])\n",
    "\n",
    "        return widgets.VBox([stats_checkboxes, rolling, timerange,btns, outt])"
   ]
  },
  {
   "cell_type": "code",
   "execution_count": null,
   "metadata": {},
   "outputs": [],
   "source": [
    "symbols = [\"vale3\",\"petr4\", \"bpac11\", \"ceab3\", \"abev3\", \"b3sa3\", \"embr3\", \"ggbr4\", \"tots3\"]\n",
    "file = 'wallet_20210312.log.csv'\n",
    "lob = LOB(symbols, file)\n",
    "lob.lob_stats_analyser()"
   ]
  },
  {
   "cell_type": "code",
   "execution_count": null,
   "metadata": {},
   "outputs": [],
   "source": [
    "lob.DATA.head()"
   ]
  },
  {
   "cell_type": "code",
   "execution_count": null,
   "metadata": {},
   "outputs": [],
   "source": [
    "#https://pandas.pydata.org/pandas-docs/stable/reference/api/pandas.DataFrame.corr.html\n",
    "lob.FILTERED_DATA.corr()"
   ]
  },
  {
   "cell_type": "code",
   "execution_count": null,
   "metadata": {},
   "outputs": [],
   "source": [
    "def df_derived_by_shift(df,lag=0,NON_DER=[]):\n",
    "    df = df.copy()\n",
    "    if not lag:\n",
    "        return df\n",
    "    cols ={}\n",
    "    for i in range(1,lag+1):\n",
    "        for x in list(df.columns):\n",
    "            if x not in NON_DER:\n",
    "                if not x in cols:\n",
    "                    cols[x] = ['{}_{}'.format(x, i)]\n",
    "                else:\n",
    "                    cols[x].append('{}_{}'.format(x, i))\n",
    "    for k,v in cols.items():\n",
    "        columns = v\n",
    "        dfn = pandas.DataFrame(data=None, columns=columns, index=df.index)    \n",
    "        i = 1\n",
    "        for c in columns:\n",
    "            dfn[c] = df[k].shift(periods=i)\n",
    "            i+=1\n",
    "        df = pandas.concat([df, dfn], axis=1, join_axes=[df.index])\n",
    "    return df\n",
    "df_new = df_derived_by_shift(lob.FILTERED_DATA, 10).dropna()\n",
    "CORR = df_new.corr()"
   ]
  },
  {
   "cell_type": "code",
   "execution_count": null,
   "metadata": {},
   "outputs": [],
   "source": [
    "#CORR['book_imbalance']['book_imbalance']\n",
    "pandas.set_option('display.max_rows', 1000) \n",
    "pandas.set_option('display.max_columns', 1000) \n",
    "\n",
    "#CORR.book_imbalance\n",
    "CORR"
   ]
  },
  {
   "cell_type": "code",
   "execution_count": null,
   "metadata": {},
   "outputs": [],
   "source": [
    "import matplotlib.pyplot as plt\n",
    "import numpy as np\n",
    "import seaborn as sns\n",
    "colormap = plt.cm.RdBu\n",
    "plt.figure(figsize=(20,15))\n",
    "#plt.title(u'6 hours', y=1.05, size=16)\n",
    "\n",
    "mask = np.zeros_like(df_new.corr())\n",
    "mask[np.triu_indices_from(mask)] = True\n",
    "\n",
    "svm = sns.heatmap(df_new.corr(), mask=mask, linewidths=0.1,vmax=1.0, \n",
    "            square=True, cmap=colormap, linecolor='white', annot=True)"
   ]
  },
  {
   "cell_type": "code",
   "execution_count": null,
   "metadata": {},
   "outputs": [],
   "source": []
  }
 ],
 "metadata": {
  "kernelspec": {
   "display_name": "Python 3",
   "language": "python",
   "name": "python3"
  },
  "language_info": {
   "codemirror_mode": {
    "name": "ipython",
    "version": 3
   },
   "file_extension": ".py",
   "mimetype": "text/x-python",
   "name": "python",
   "nbconvert_exporter": "python",
   "pygments_lexer": "ipython3",
   "version": "3.7.3"
  }
 },
 "nbformat": 4,
 "nbformat_minor": 2
}
