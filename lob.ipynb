{
 "cells": [
  {
   "cell_type": "code",
   "execution_count": null,
   "metadata": {},
   "outputs": [],
   "source": [
    "%matplotlib inline\n",
    "from matplotlib import pyplot as plt\n",
    "from matplotlib import dates as mdate\n",
    "import json, datetime, pandas\n",
    "pandas.options.display.float_format = \"{:.2f}\".format\n",
    "from pandas.plotting import register_matplotlib_converters\n",
    "register_matplotlib_converters()\n",
    "import ipywidgets as widgets \n",
    "from IPython.display import display, clear_output, Markdown"
   ]
  },
  {
   "cell_type": "code",
   "execution_count": null,
   "metadata": {},
   "outputs": [],
   "source": [
    "def lob_stats_analyser(df):\n",
    "    outt = widgets.Output()\n",
    "    stats_checkbox = [widgets.Checkbox(description=stats, value=True,indent=False, disabled=False) for stats in df.columns]\n",
    "    stats_checkboxes = widgets.HBox(stats_checkbox)\n",
    "    rolling = widgets.FloatSlider(\n",
    "             value=50,\n",
    "             min=1,\n",
    "             max=200,\n",
    "             step=1,\n",
    "             disabled=False,\n",
    "             description='Rolling:',\n",
    "            )\n",
    "    timerange = widgets.IntRangeSlider(\n",
    "                    value=[0,0],\n",
    "                    min=0,\n",
    "                    max=0,\n",
    "                    step=5,\n",
    "                    description='Range:',\n",
    "                    disabled=False,\n",
    "                    continuous_update=False,\n",
    "                    orientation='horizontal',\n",
    "                    readout=True,\n",
    "                    readout_format='d',\n",
    "                    layout=dict(width='95%')\n",
    "                    )\n",
    "    timerange.max = df.index.max()\n",
    "    timerange.min = df.index.min()\n",
    "    timerange.value = [df.index.min(), df.index.max()]\n",
    "\n",
    "    def plot_time_range(start, end, normalized):\n",
    "        with outt:\n",
    "            clear_output()\n",
    "            timerange.value = [start, end]\n",
    "            print(\"Start time:\", datetime.datetime.fromtimestamp(start).strftime('%Y-%m-%d %H:%M:%S'),\n",
    "                    \"  End time:\", datetime.datetime.fromtimestamp(end).strftime('%Y-%m-%d %H:%M:%S'))\n",
    "            selected_stats = [checkbox.description for checkbox in stats_checkbox if checkbox.value]\n",
    "            if normalized:\n",
    "                data = df[(df.index > start) & \n",
    "                    (df.index < end)][selected_stats].rolling(int(rolling.value)).mean().dropna()\n",
    "                data = data.apply(lambda x: (x-x.min())/(x.max()-x.min()))\n",
    "            else:\n",
    "                data = df[(df.index > start) & \n",
    "                    (df.index < end)][selected_stats].rolling(int(rolling.value)).mean().dropna()\n",
    "            plt.rcParams['figure.figsize'] = [15,7]\n",
    "            plt.rcParams['timezone'] = 'America/Sao_Paulo'\n",
    "\n",
    "            fig,ax = plt.subplots()\n",
    "            x = mdate.epoch2num(data.index)\n",
    "            fmt = mdate.DateFormatter('%H:%M:%S')\n",
    "\n",
    "            ax.xaxis.set_major_formatter(fmt)\n",
    "            plt.xticks( rotation=25 )\n",
    "            plt.plot_date(x, data, linestyle='solid', marker='None')\n",
    "\n",
    "            plt.legend(data.columns)\n",
    "            plt.show()\n",
    "    def on_btn_filter_range_clicked(b):\n",
    "        plot_time_range(timerange.value[0], timerange.value[1], False)\n",
    "    def on_btn_filter_range_norm_clicked(b):\n",
    "        plot_time_range(timerange.value[0], timerange.value[1], True)\n",
    "    btn_filter_range = widgets.Button(description='Apply Filter',button_style='danger', disabled=False)\n",
    "    btn_filter_range.on_click(on_btn_filter_range_clicked)\n",
    "    btn_filter_range_norm = widgets.Button(description='Apply Filter w/ Norm',button_style='warning', disabled=False)\n",
    "    btn_filter_range_norm.on_click(on_btn_filter_range_norm_clicked)\n",
    "    btns = widgets.HBox([btn_filter_range, btn_filter_range_norm])\n",
    "\n",
    "    return widgets.VBox([stats_checkboxes, rolling, timerange,btns, outt])"
   ]
  },
  {
   "cell_type": "code",
   "execution_count": null,
   "metadata": {},
   "outputs": [],
   "source": [
    "df = pandas.read_csv('bpac11_bear_market_20210308.csv',sep=';')\n",
    "df.set_index('timestamp', inplace=True)\n",
    "df.head()"
   ]
  },
  {
   "cell_type": "code",
   "execution_count": null,
   "metadata": {},
   "outputs": [],
   "source": [
    "lob_stats_analyser(df)"
   ]
  },
  {
   "cell_type": "code",
   "execution_count": null,
   "metadata": {},
   "outputs": [],
   "source": []
  }
 ],
 "metadata": {
  "kernelspec": {
   "display_name": "Python 3",
   "language": "python",
   "name": "python3"
  },
  "language_info": {
   "codemirror_mode": {
    "name": "ipython",
    "version": 3
   },
   "file_extension": ".py",
   "mimetype": "text/x-python",
   "name": "python",
   "nbconvert_exporter": "python",
   "pygments_lexer": "ipython3",
   "version": "3.8.5"
  }
 },
 "nbformat": 4,
 "nbformat_minor": 2
}
