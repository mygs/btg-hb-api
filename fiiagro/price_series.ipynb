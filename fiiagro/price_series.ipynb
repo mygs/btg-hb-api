{
 "cells": [
  {
   "cell_type": "code",
   "execution_count": 1,
   "metadata": {},
   "outputs": [],
   "source": [
    "import requests\n",
    "import pandas as pd\n",
    "import json"
   ]
  },
  {
   "cell_type": "code",
   "execution_count": 2,
   "metadata": {},
   "outputs": [],
   "source": [
    "#BTG HB > (Google Inspect) > Application > Cookies > TKNAPI (one of two)\n",
    "with open('../config.json', \"r\") as config_json_file:\n",
    "    cfg = json.load(config_json_file)\n",
    "fiiagro = pd.read_csv('fiiagro.csv',sep=';')\n",
    "headers = { \"authorization\" : \"Bearer YOUR_HASH_HERE\", \"content-type\":\"text/plain\", \"accept\":\"*/*\" }\n",
    "headers[\"authorization\"]=cfg[\"TKNAPI\"]"
   ]
  },
  {
   "cell_type": "code",
   "execution_count": 3,
   "metadata": {},
   "outputs": [],
   "source": [
    "PRICES={}\n",
    "for ticker in fiiagro['Ticker']:\n",
    "    url = cfg[\"PRICE_HIST_URL\"]\n",
    "    response = requests.get(url.format(ticker), headers=headers).json()\n",
    "    PRICES[ticker] = pd.DataFrame.from_dict(response)"
   ]
  },
  {
   "cell_type": "code",
   "execution_count": 4,
   "metadata": {},
   "outputs": [
    {
     "name": "stdout",
     "output_type": "stream",
     "text": [
      "BBGO11 32\n",
      "BTAL11 278\n",
      "BTRA11 160\n",
      "DCRA11 27\n",
      "FGAA11 46\n",
      "GCRA11 40\n",
      "JGPX11 76\n",
      "KNCA11 42\n",
      "NCRA11 59\n",
      "QAGR11 580\n",
      "RURA11 8\n",
      "RZAG11 106\n",
      "RZTR11 348\n",
      "VGIA11 64\n",
      "XPCA11 82\n"
     ]
    }
   ],
   "source": [
    "for fiiagro in PRICES:\n",
    "    print(fiiagro, len(PRICES[fiiagro]))"
   ]
  }
 ],
 "metadata": {
  "kernelspec": {
   "display_name": "Python 3",
   "language": "python",
   "name": "python3"
  },
  "language_info": {
   "codemirror_mode": {
    "name": "ipython",
    "version": 3
   },
   "file_extension": ".py",
   "mimetype": "text/x-python",
   "name": "python",
   "nbconvert_exporter": "python",
   "pygments_lexer": "ipython3",
   "version": "3.8.10"
  }
 },
 "nbformat": 4,
 "nbformat_minor": 4
}
