{
 "cells": [
  {
   "cell_type": "code",
   "execution_count": null,
   "metadata": {},
   "outputs": [],
   "source": [
    "import json, pandas"
   ]
  },
  {
   "cell_type": "code",
   "execution_count": null,
   "metadata": {},
   "outputs": [],
   "source": [
    "BROKER_DICT = None\n",
    "with open('broker.json', \"r\") as broker_json_file:\n",
    "    BROKER_DICT = json.load(broker_json_file)\n",
    "\n",
    "SYMBOLS = [\"vale3\",\"petr4\", \"bpac11\", \"ceab3\", \"abev3\", \"b3sa3\", \"embr3\", \"ggbr4\", \"tots3\"]\n",
    "\n",
    "def broker_ranking_by_ticker(trades): \n",
    "    pnl={}\n",
    "    for i,trade in trades.iterrows():\n",
    "        buyer = trade['buyer']\n",
    "        seller = trade['seller']\n",
    "        qty = trade['qty']\n",
    "        price = trade['price']\n",
    "        volume = price * qty\n",
    "        agressor_buyer = 1 if trade['agressor'] == 'A' else 0\n",
    "        agressor_seller = 1 if trade['agressor'] == 'V' else 0\n",
    "        buyer_stats_from_dict = pnl.get(buyer)\n",
    "        if buyer_stats_from_dict is None:\n",
    "            stats = {}\n",
    "            stats['net'] = volume\n",
    "            stats['qty'] = qty\n",
    "            stats['agressor'] = agressor_buyer\n",
    "            pnl[buyer] = stats\n",
    "        else:\n",
    "            buyer_stats_from_dict['net'] = buyer_stats_from_dict['net'] + volume\n",
    "            buyer_stats_from_dict['qty'] = buyer_stats_from_dict['qty'] + qty\n",
    "            buyer_stats_from_dict['agressor'] = buyer_stats_from_dict['agressor'] + agressor_buyer\n",
    "            pnl[buyer] = buyer_stats_from_dict\n",
    "\n",
    "        seller_stats_from_dict = pnl.get(seller)\n",
    "        if seller_stats_from_dict is None:\n",
    "            stats = {}\n",
    "            stats['net'] = -volume\n",
    "            stats['qty'] = qty\n",
    "            stats['agressor'] = agressor_seller\n",
    "            pnl[seller] = stats\n",
    "        else:\n",
    "            seller_stats_from_dict['net'] = seller_stats_from_dict['net'] - volume\n",
    "            seller_stats_from_dict['qty'] = seller_stats_from_dict['qty'] + qty\n",
    "            seller_stats_from_dict['agressor'] = seller_stats_from_dict['agressor'] + agressor_seller\n",
    "            pnl[seller] = seller_stats_from_dict\n",
    "\n",
    "    statistics_array = []\n",
    "    for idx in pnl:\n",
    "        broker_name = [x for x in BROKER_DICT if x['playerMarketCode'] == str(idx)][1]['playerNameFull']\n",
    "        statistics_array.append([idx, broker_name, pnl[idx]['net'], pnl[idx]['qty'], pnl[idx]['agressor']])\n",
    "    statistics = pandas.DataFrame(statistics_array, columns=['BROKER_ID', 'BROKER_NAME', 'NET', 'QTY', 'AGRESSOR'])\n",
    "    return statistics"
   ]
  },
  {
   "cell_type": "code",
   "execution_count": null,
   "metadata": {},
   "outputs": [],
   "source": [
    "trades = pandas.read_csv('20210420_bbt.log.csv',sep=';')\n",
    "for symbol in SYMBOLS:\n",
    "    print(\"\\n\\n\")\n",
    "    print(\"============================================================================\")\n",
    "    print(\"===================================\", symbol.upper(),\"==================================\")\n",
    "    print(\"============================================================================\")\n",
    "    stats = broker_ranking_by_ticker(trades[trades['symbol'] == symbol.upper()])\n",
    "    print(stats.sort_values('QTY',ascending=False))"
   ]
  },
  {
   "cell_type": "code",
   "execution_count": null,
   "metadata": {},
   "outputs": [],
   "source": [
    "trades.head()"
   ]
  },
  {
   "cell_type": "code",
   "execution_count": null,
   "metadata": {},
   "outputs": [],
   "source": [
    "trades[trades.symbol=='CEAB3']['qty'].head()"
   ]
  },
  {
   "cell_type": "code",
   "execution_count": null,
   "metadata": {},
   "outputs": [],
   "source": []
  }
 ],
 "metadata": {
  "kernelspec": {
   "display_name": "Python 3",
   "language": "python",
   "name": "python3"
  },
  "language_info": {
   "codemirror_mode": {
    "name": "ipython",
    "version": 3
   },
   "file_extension": ".py",
   "mimetype": "text/x-python",
   "name": "python",
   "nbconvert_exporter": "python",
   "pygments_lexer": "ipython3",
   "version": "3.7.3"
  }
 },
 "nbformat": 4,
 "nbformat_minor": 2
}
